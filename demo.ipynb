{
 "cells": [
  {
   "cell_type": "code",
   "execution_count": 1,
   "metadata": {},
   "outputs": [
    {
     "name": "stderr",
     "output_type": "stream",
     "text": [
      "Using TensorFlow backend.\n"
     ]
    }
   ],
   "source": [
    "from model import InstanceLearning"
   ]
  },
  {
   "cell_type": "code",
   "execution_count": 3,
   "metadata": {},
   "outputs": [
    {
     "name": "stderr",
     "output_type": "stream",
     "text": [
      "Read in 100000 yelp reviews\n",
      "Prep the training data\n",
      "Prep the pretrained word embeddings\n"
     ]
    }
   ],
   "source": [
    "instance_learning_model = InstanceLearning(vocab_size=3000, max_sent=5, max_len=30, embedding_dim=300)\n",
    "instance_learning_model.read_review_data(nrows=100000)\n",
    "instance_learning_model.process_data()\n",
    "instance_learning_model.get_pretrained_embeddings()"
   ]
  },
  {
   "cell_type": "code",
   "execution_count": 4,
   "metadata": {},
   "outputs": [
    {
     "name": "stdout",
     "output_type": "stream",
     "text": [
      "Train on 70553 samples, validate on 17639 samples\n",
      "Epoch 1/5\n",
      "70553/70553 [==============================] - 71s 1ms/step - loss: 0.7240 - acc: 0.8460 - val_loss: 0.5079 - val_acc: 0.8667\n",
      "Epoch 2/5\n",
      "70553/70553 [==============================] - 71s 1ms/step - loss: 0.4691 - acc: 0.8779 - val_loss: 0.4837 - val_acc: 0.8868\n",
      "Epoch 3/5\n",
      "70553/70553 [==============================] - 74s 1ms/step - loss: 0.4331 - acc: 0.8882 - val_loss: 0.4712 - val_acc: 0.8698\n",
      "Epoch 4/5\n",
      "70553/70553 [==============================] - 74s 1ms/step - loss: 0.4104 - acc: 0.8942 - val_loss: 0.4792 - val_acc: 0.8622\n",
      "Epoch 5/5\n",
      "70553/70553 [==============================] - 74s 1ms/step - loss: 0.3973 - acc: 0.8977 - val_loss: 0.4593 - val_acc: 0.8809\n"
     ]
    }
   ],
   "source": [
    "instance_learning_model.get_models(dropout_prob=0.4, embedding_trainable=True)\n",
    "instance_learning_model.train(5)"
   ]
  },
  {
   "cell_type": "code",
   "execution_count": null,
   "metadata": {},
   "outputs": [],
   "source": [
    ""
   ]
  }
 ],
 "metadata": {
  "kernelspec": {
   "display_name": "Python 3",
   "language": "python",
   "name": "python3"
  },
  "language_info": {
   "codemirror_mode": {
    "name": "ipython",
    "version": 3.0
   },
   "file_extension": ".py",
   "mimetype": "text/x-python",
   "name": "python",
   "nbconvert_exporter": "python",
   "pygments_lexer": "ipython3",
   "version": "3.6.6"
  }
 },
 "nbformat": 4,
 "nbformat_minor": 0
}