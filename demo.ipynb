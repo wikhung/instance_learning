{
 "cells": [
  {
   "cell_type": "code",
   "execution_count": 1,
   "metadata": {},
   "outputs": [
    {
     "name": "stderr",
     "output_type": "stream",
     "text": [
      "Using TensorFlow backend.\n"
     ]
    }
   ],
   "source": [
    "from model import InstanceLearning\n",
    "\n",
    "instance_learning_model = InstanceLearning(vocab_size=5000, max_sent=7, max_len=30, embedding_dim=300)"
   ]
  },
  {
   "cell_type": "code",
   "execution_count": 2,
   "metadata": {},
   "outputs": [
    {
     "name": "stderr",
     "output_type": "stream",
     "text": [
      "Read in 250000 yelp reviews\n"
     ]
    }
   ],
   "source": [
    "instance_learning_model.read_review_data(nrows=250000)"
   ]
  },
  {
   "cell_type": "code",
   "execution_count": 3,
   "metadata": {},
   "outputs": [
    {
     "name": "stderr",
     "output_type": "stream",
     "text": [
      "Prep the training data\n",
      "Prep the pretrained word embeddings\n"
     ]
    }
   ],
   "source": [
    "instance_learning_model.process_data()\n",
    "instance_learning_model.get_pretrained_embeddings()"
   ]
  },
  {
   "cell_type": "code",
   "execution_count": 4,
   "metadata": {},
   "outputs": [
    {
     "name": "stdout",
     "output_type": "stream",
     "text": [
      "Train on 177096 samples, validate on 44274 samples\n",
      "Epoch 1/10\n",
      "177096/177096 [==============================] - 220s 1ms/step - loss: 0.2288 - acc: 0.8518 - val_loss: 0.1634 - val_acc: 0.8913\n",
      "Epoch 2/10\n",
      "177096/177096 [==============================] - 224s 1ms/step - loss: 0.1524 - acc: 0.8846 - val_loss: 0.1517 - val_acc: 0.8767\n",
      "Epoch 3/10\n",
      "177096/177096 [==============================] - 224s 1ms/step - loss: 0.1414 - acc: 0.8947 - val_loss: 0.1459 - val_acc: 0.9004\n",
      "Epoch 4/10\n",
      "177096/177096 [==============================] - 224s 1ms/step - loss: 0.1348 - acc: 0.8994 - val_loss: 0.1446 - val_acc: 0.9067\n",
      "Epoch 5/10\n",
      "177096/177096 [==============================] - 224s 1ms/step - loss: 0.1313 - acc: 0.9025 - val_loss: 0.1412 - val_acc: 0.8939\n",
      "Epoch 6/10\n",
      "177096/177096 [==============================] - 224s 1ms/step - loss: 0.1294 - acc: 0.9036 - val_loss: 0.1404 - val_acc: 0.9009\n",
      "Epoch 7/10\n",
      "177096/177096 [==============================] - 224s 1ms/step - loss: 0.1286 - acc: 0.9045 - val_loss: 0.1401 - val_acc: 0.8987\n",
      "Epoch 8/10\n",
      "177096/177096 [==============================] - 224s 1ms/step - loss: 0.1282 - acc: 0.9051 - val_loss: 0.1399 - val_acc: 0.8982\n",
      "Epoch 9/10\n",
      "177096/177096 [==============================] - 224s 1ms/step - loss: 0.1279 - acc: 0.9060 - val_loss: 0.1399 - val_acc: 0.8985\n",
      "Epoch 10/10\n",
      "177096/177096 [==============================] - 224s 1ms/step - loss: 0.1279 - acc: 0.9045 - val_loss: 0.1399 - val_acc: 0.8996\n"
     ]
    }
   ],
   "source": [
    "instance_learning_model.get_models(dropout_prob=0.4, embedding_trainable=False)\n",
    "\n",
    "instance_learning_model.train(epochs=10, save_weights=True)"
   ]
  },
  {
   "cell_type": "markdown",
   "metadata": {},
   "source": [
    "## Setting up the demo environment"
   ]
  },
  {
   "cell_type": "code",
   "execution_count": 2,
   "metadata": {},
   "outputs": [],
   "source": [
    "#from model import InstanceLearning\n",
    "\n",
    "#instance_learning_model = InstanceLearning(vocab_size=3000, max_sent=7, max_len=30, embedding_dim=300)\n",
    "\n",
    "instance_learning_model.load_saved_model()"
   ]
  },
  {
   "cell_type": "markdown",
   "metadata": {},
   "source": [
    "## EXAMPLE 1:"
   ]
  },
  {
   "cell_type": "code",
   "execution_count": 16,
   "metadata": {},
   "outputs": [
    {
     "data": {
      "text/plain": [
       "'This restaurant is very good. The atmosphere is great. You can choose many different dishes and they are all very good. The only thing I would not recommend is their sushi.'"
      ]
     },
     "execution_count": 16,
     "metadata": {},
     "output_type": "execute_result"
    }
   ],
   "source": [
    "\"This restaurant is very good. The atmosphere is great. You can choose many different dishes and they are all very good. The only thing I would not recommend is their sushi.\""
   ]
  },
  {
   "cell_type": "code",
   "execution_count": 17,
   "metadata": {
    "scrolled": true
   },
   "outputs": [
    {
     "name": "stdout",
     "output_type": "stream",
     "text": [
      "Enter the reviews here:\"This restaurant is very good. The atmosphere is great. You can choose many different dishes and they are all very good. The only thing I would not recommend is their sushi.\"\n",
      "\n",
      "\n",
      "This review is \u001b[1;42mpositive\u001b[1;m\n",
      "\n",
      "\n",
      "\u001b[1;42m\"This restaurant is very good.\u001b[1;m\n",
      "\u001b[1;42mThe atmosphere is great.\u001b[1;m\n",
      "\u001b[1;42mYou can choose many different dishes and they are all very good.\u001b[1;m\n",
      "\u001b[1;41mThe only thing I would not recommend is their sushi.\"\u001b[1;m\n"
     ]
    }
   ],
   "source": [
    "instance_learning_model.demo()"
   ]
  },
  {
   "cell_type": "code",
   "execution_count": 5,
   "metadata": {},
   "outputs": [
    {
     "data": {
      "text/plain": [
       "\"I really don't like this bar. The floor is dirty and people are rude here. I only added 1 star to the review because of their huge selection of beer\""
      ]
     },
     "execution_count": 5,
     "metadata": {},
     "output_type": "execute_result"
    }
   ],
   "source": [
    "\"I really don't like this bar. The floor is dirty and people are rude here. I only added 1 star to the review because of their huge selection of beer\""
   ]
  },
  {
   "cell_type": "code",
   "execution_count": 6,
   "metadata": {},
   "outputs": [
    {
     "name": "stdout",
     "output_type": "stream",
     "text": [
      "Enter the reviews here:\"I really don't like this bar. The floor is dirty and people are rude here. I only added 1 star to the review because of their huge selection of beer\"\n",
      "\n",
      "\n",
      "This review is \u001b[1;41mnegative\u001b[1;m\n",
      "\n",
      "\n",
      "\u001b[1;41m\"I really don't like this bar.\u001b[1;m\n",
      "\u001b[1;41mThe floor is dirty and people are rude here.\u001b[1;m\n",
      "\u001b[1;42mI only added 1 star to the review because of their huge selection of beer\"\u001b[1;m\n"
     ]
    }
   ],
   "source": [
    "instance_learning_model.demo()"
   ]
  },
  {
   "cell_type": "markdown",
   "metadata": {},
   "source": [
    "## Test/Validation Section"
   ]
  },
  {
   "cell_type": "code",
   "execution_count": 9,
   "metadata": {},
   "outputs": [],
   "source": [
    "import pandas as pd\n",
    "import seaborn as sns\n",
    "import matplotlib.pyplot as plt"
   ]
  },
  {
   "cell_type": "code",
   "execution_count": 4,
   "metadata": {},
   "outputs": [],
   "source": [
    "# Read 50,000 records for validation purpose\n",
    "validation_predictions = instance_learning_model.load_validation_data(nrows = 50000)"
   ]
  },
  {
   "cell_type": "code",
   "execution_count": 7,
   "metadata": {},
   "outputs": [],
   "source": [
    "# Covenient function to convert the prediction data to a dataframe\n",
    "def df_convert(star):\n",
    "    df = pd.DataFrame({\"Review\":[\"{} star\".format(star)]*validation_predictions[star].reshape(-1,).shape[0], \n",
    "                       \"Predictions\": validation_predictions[star].reshape(-1,)})\n",
    "    \n",
    "    return df"
   ]
  },
  {
   "cell_type": "code",
   "execution_count": 8,
   "metadata": {},
   "outputs": [],
   "source": [
    "# Concat predictions from all rating categories\n",
    "plot_df = pd.concat([df_convert(i) for i in range(1,6)])"
   ]
  },
  {
   "cell_type": "code",
   "execution_count": 12,
   "metadata": {},
   "outputs": [
    {
     "data": {
      "image/png": "[encoded data removed]",
      "text/plain": [
       "<Figure size 576x576 with 1 Axes>"
      ]
     },
     "metadata": {},
     "output_type": "display_data"
    }
   ],
   "source": [
    "# Plot the data\n",
    "f, ax = plt.subplots(figsize = (8,8))\n",
    "sns.boxplot(x=\"Predictions\", y=\"Review\", data = plot_df)\n",
    "ax.set_title(\"Sentence Predictions by Rating Categories\")\n",
    "plt.show()"
   ]
  },
  {
   "cell_type": "code",
   "execution_count": null,
   "metadata": {},
   "outputs": [],
   "source": []
  }
 ],
 "metadata": {
  "kernelspec": {
   "display_name": "Python 3",
   "language": "python",
   "name": "python3"
  },
  "language_info": {
   "codemirror_mode": {
    "name": "ipython",
    "version": 3
   },
   "file_extension": ".py",
   "mimetype": "text/x-python",
   "name": "python",
   "nbconvert_exporter": "python",
   "pygments_lexer": "ipython3",
   "version": "3.6.6"
  }
 },
 "nbformat": 4,
 "nbformat_minor": 1
}
